{
  "nbformat": 4,
  "nbformat_minor": 0,
  "metadata": {
    "colab": {
      "name": "Practica2.ipynb",
      "provenance": [],
      "collapsed_sections": []
    },
    "kernelspec": {
      "name": "python3",
      "display_name": "Python 3"
    },
    "language_info": {
      "name": "python"
    }
  },
  "cells": [
    {
      "cell_type": "markdown",
      "metadata": {
        "id": "uNKUz7yecHIQ"
      },
      "source": [
        "# Ejercicio 1\n",
        "Encuentre la solucion óptima al siguiente problema.\n",
        "\n",
        "$ maxf(x) = \\frac{0.5}{\\sqrt{1 + x^2} } - \\sqrt{1 + x^2} (1 - \\frac{0.5}{1 + x^2}) + x$"
      ]
    },
    {
      "cell_type": "code",
      "metadata": {
        "id": "t4FLSXLdgliV"
      },
      "source": [
        "def f(x):\n",
        "  return (0.5/(1+x**2)**(1/2)) - (1+x**2)**(1/2) * (1- (0.5/(1+x**2))) + x"
      ],
      "execution_count": 6,
      "outputs": []
    },
    {
      "cell_type": "markdown",
      "metadata": {
        "id": "256gmQytf5qH"
      },
      "source": [
        "#a)\n",
        "utilizando el método de estimaciones cuadraticas sucesivas, la entrada es $x0 = 0, \\delta = 0.1 y \\epsilon = 0.0001$"
      ]
    },
    {
      "cell_type": "code",
      "metadata": {
        "id": "GGPFm3OacDe-"
      },
      "source": [
        "def obtener_a(x1,x2,x3):\n",
        "    global f_guardadas\n",
        "    #print (x1,x2,x3)\n",
        "    f1,f2,f3 = [f_guardadas[_] for _ in [x1,x2,x3] ]\n",
        "    a0 = f1\n",
        "    a1 = (f2-f1) / (x2-x1)\n",
        "    a2 = (1/(x3-x2)) * ( ((f3-f1)/(x3-x1)) - a1 )\n",
        "    return(a0,a1,a2)\n",
        "\n",
        "def actualizar_f_guardadas(x1,x2,x3):\n",
        "  global f_guardadas\n",
        "  for _ in f_guardadas.keys():\n",
        "    if _ not in [x1,x2,x3]:\n",
        "      eliminar = _\n",
        "  f_guardadas.pop(eliminar)\n",
        "\n",
        "def consultarf(x):\n",
        "  try:\n",
        "    return(f_guardadas[x])\n",
        "  except:\n",
        "    f_guardadas[x] = f(x)\n",
        "    return(f_guardadas[x])\n",
        "\n",
        "def obtener_xb(x1,x2,a1,a2):\n",
        "  return( (x1+x2)/2 - a1/(2*a2) )\n",
        "\n",
        "def estimaciones(x1,delta,epsilon,f):\n",
        "    global c, f_guardadas\n",
        "    c=0\n",
        "    f_guardadas = {}\n",
        "    f_guardadas[x1] = f(x1)\n",
        "    x2 = x1 + delta\n",
        "    f_guardadas[x2] = f(x2)\n",
        "    if f_guardadas[x1] > f_guardadas[x2] :\n",
        "      x3 = x1+2*delta\n",
        "    else:\n",
        "      x3 = x1 - delta\n",
        "    f_guardadas[x3] = f(x3)\n",
        "    x1,x2,x3 = sorted([x1,x2,x3])\n",
        "    a0,a1,a2 = obtener_a(x1,x2,x3)\n",
        "    xb = obtener_xb(x1,x2,a1,a2)\n",
        "    xmin  = x1\n",
        "    fmin = f_guardadas[xmin]\n",
        "    gg=0\n",
        "    while abs(xmin - xb) > epsilon:\n",
        "      gg+=1\n",
        "      f_guardadas[xb] = f(xb)\n",
        "      x1,x2,x3 = [list(f_guardadas.keys())[list(f_guardadas.values()).index(_)] \n",
        "                  for _ in sorted(f_guardadas.values())[0:3]] #obtiene las mejores x1,x2,x3 en base a sus f\n",
        "      x1,x2,x3 = sorted([x1,x2,x3])\n",
        "      #actualizar_f_guardadas(x1,x2,x3) # borramos el valor de la funcion en el punto que ya no se usa\n",
        "      a0,a1,a2 = obtener_a(x1,x2,x3)\n",
        "      xb = obtener_xb(x1,x2,a1,a2)\n",
        "      if f_guardadas[x1] < fmin:\n",
        "        xmin = x1\n",
        "        fmin = f_guardadas[x1]\n",
        "      #print(xmin,consultarf(xmin))\n",
        "\n",
        "    print('({:.3f}, {:.3f}) \\n{}'.format(xmin,-consultarf(xmin),c-1))"
      ],
      "execution_count": 19,
      "outputs": []
    },
    {
      "cell_type": "code",
      "metadata": {
        "id": "h8ITkqIZimDc"
      },
      "source": [
        "def g(x):\n",
        "  global c\n",
        "  c+=1\n",
        "  return(-f(x))"
      ],
      "execution_count": 96,
      "outputs": []
    },
    {
      "cell_type": "code",
      "metadata": {
        "colab": {
          "base_uri": "https://localhost:8080/"
        },
        "id": "9q0KGZvVhE2j",
        "outputId": "d77bf4dd-5ba3-49c1-c472-5de095e06f8e"
      },
      "source": [
        "x0, delta,epsilon = 0,0.1,0.0001\n",
        "estimaciones(x0,delta,epsilon,g)"
      ],
      "execution_count": 97,
      "outputs": [
        {
          "output_type": "stream",
          "text": [
            "(0.786, 0.300) \n",
            "12\n"
          ],
          "name": "stdout"
        }
      ]
    },
    {
      "cell_type": "markdown",
      "metadata": {
        "id": "iCAIol39kL41"
      },
      "source": [
        "El valor de $x^*$ es $0.786$, la $f(x^*) = -0.300$ y el numero de evaluaciones a $f(x)$ fue 12"
      ]
    },
    {
      "cell_type": "markdown",
      "metadata": {
        "id": "lBn0uNxoj_1z"
      },
      "source": [
        "#b)\n",
        "Utilizando el método de Newton-Raphson.\n",
        "\n",
        "La entrada será $x0  = 0$ y $\\epsilon = 0.0001$"
      ]
    },
    {
      "cell_type": "markdown",
      "metadata": {
        "id": "XMiC5q2al4gm"
      },
      "source": [
        "## Calculando la primer derivada.\n",
        "$f(x) = \\frac{0.5}{\\sqrt{1 + x^2} } - \\sqrt{1 + x^2} \\left( 1 - \\frac{0.5}{1 + x^2}\\right) + x$\n",
        "\n",
        "$f'(x) = \\frac{d}{dx}\\frac{0.5}{\\sqrt{1 + x^2} } - \\frac{d}{dx}\\sqrt{1 + x^2} \\left( 1 - \\frac{0.5}{1 + x^2} \\right) + \\frac{d}{dx}x $\n",
        "\n",
        "calculamos la derivada por partes.\n",
        "\n",
        "$\\frac{d}{dx}\\frac{0.5}{\\sqrt{1 + x^2} }$\n",
        "\n",
        "$\\frac{0.5}{\\sqrt{1 + x^2} } =  \\frac{\\frac{1}{2}}{\\sqrt{1 + x^2}} = \\frac{1}{2\\sqrt{1 + x^2}}$\n",
        "\n",
        "$\\frac{d}{dx} \\frac{1}{2\\sqrt{1 + x^2}} = - \\frac{\\frac{d}{dx} \\left( 2\\sqrt{1 + x^2} \\right)}{ \\left( 2*\\sqrt{1 + x^2} \\right)^2 } = -\\frac{2\\frac{d}{dx} \\left( \\sqrt{1 + x^2} \\right)}{ \\left( 2\\sqrt{1 + x^2} \\right)^2 } = -\\frac{2\\frac{d}{dx} \\left( \\sqrt{1 + x^2} \\right)}{ \\left( 2\\sqrt{1 + x^2} \\right)^2 } $\n",
        "\n",
        "Usamos la regla de la cadena, consideramos $f(x) = \\sqrt{x}$ y $g(x) = x^2 + 1$\n",
        "\n",
        "\n",
        "$= -\\frac{2*\\frac{d}{dg} \\left( \\sqrt{g} \\right)  * \\frac{d}{dx}(x ^2+1)} { \\left( 2\\sqrt{1 + x^2} \\right)^2 } =- \\frac{2*  \\frac{1}{2\\sqrt{g}}   * 2x} { \\left( 2\\sqrt{1 + x^2} \\right)^2 }  = - \\frac{2*  \\frac{1}{2\\sqrt{1+x^2}}   * 2x} { \\left( 2\\sqrt{1 + x^2} \\right)^2 }   = - \\frac{\\frac{1}{\\sqrt{1+x^2}}   * 2x} {  4(1 + x^2)  } = -\\frac{\\frac{1}{\\sqrt{1+x^2}}   *x} {  2(1 + x^2)   } $\n",
        "\n",
        "$=- \\frac{\\frac{x}{\\sqrt{1+x^2}} } {  2(1 + x^2)  } = - \\frac{x}{2(1 + x^2) *\\sqrt{1 + x^2}} = - \\frac{x}{2(1 + x^2)^{3/2}}$\n",
        "\n"
      ]
    },
    {
      "cell_type": "markdown",
      "metadata": {
        "id": "zrSMM4Nr79mM"
      },
      "source": [
        "calculaos la siguiente parte.\n",
        "\n",
        "$\\frac{d}{dx}\\sqrt{1 + x^2} \\left( 1 - \\frac{0.5}{1 + x^2} \\right)$\n",
        "\n",
        "$\\sqrt{1 + x^2} \\left( 1 - \\frac{0.5}{1 + x^2} \\right) = \\sqrt{1 + x^2} \\left( 1 - \\frac{1}{2(1 + x^2)} \\right) = \\sqrt{1 + x^2} \\left( \\frac{2(1 + x^2) - 1}{2(1 + x^2)} \\right) = \\sqrt{1 + x^2} \\left( \\frac{2x^2 + 1 }{2(1 + x^2)} \\right)  = \\frac{\\sqrt{x^2+1}  (2x^2 + 1) }{ 2x^2 + 2} $\n",
        "\n",
        "usamos la regla de la derivada de una division.\n",
        "$\\frac{d}{dx}\\frac{\\sqrt{x^2+1}  (2x^2 + 1) }{ 2x^2 + 2} = \\frac{ \\frac{d}{dx}\\sqrt{x^2+1}  (2x^2 + 1) * (2x^2+2) - \\sqrt{x^2+1}  (2x^2 + 1) * \\frac{d}{dx}(2x^2+2) }{(2x^2 + 2)^2}$\n",
        "\n",
        "resolvemos $ \\frac{d}{dx}\\sqrt{x^2+1}  (2x^2 + 1) $\n",
        "\n",
        "$ = \\frac{d}{dx}\\sqrt{x^2 +1} * (2x^2 + 1) + \\sqrt{x^2 + 1} * \\frac{d}{dx}(2x^2+1)$\n",
        "\n",
        "$= \\frac{1}{2\\sqrt{x^2+1}} * 2x  *  (2x^2 + 1)+ \\sqrt{x^2 + 1} * 4x$\n",
        "\n",
        "resolvemos $\\frac{d}{dx}(2x^2+2) $\n",
        "$= 4x =$\n",
        "\n",
        "reemplazamos en la expresion original.\n",
        "\n",
        "$\\frac{ \\left(\\frac{1}{2\\sqrt{x^2+1}} * 2x  *  (2x^2 + 1)+ \\sqrt{x^2 + 1}  * 4x\\right) * (2x^2+2) - \\sqrt{x^2+1}  (2x^2 + 1) * 4x}{(2x^2 + 2)^2}$\n",
        "\n",
        "$ \\frac{ \\left(\\frac{1}{\\sqrt{x^2+1}} * x  *  (2x^2 + 1)+ 4x\\sqrt{x^2 + 1} \\right) * (2x^2+2) - 4x\\sqrt{x^2+1}  (2x^2 + 1) }{(2x^2 + 2)^2} $\n",
        "\n",
        "$ \\frac{ \\left(\\frac{2x^3+x}{\\sqrt{x^2+1}} + 4x\\sqrt{x^2 + 1} \\right) * (2x^2+2) - 4x\\sqrt{x^2+1}  (2x^2 + 1) }{(2x^2 + 2)^2} $\n",
        "\n",
        "$ \\frac{ \\left(\\frac{2x^3+x + 4x*(x^2+1)}{\\sqrt{x^2+1}}  \\right) * (2x^2+2) - 4x\\sqrt{x^2+1}  (2x^2 + 1) }{(2x^2 + 2)^2} $\n",
        "\n",
        "$ \\frac{ \\left(\\frac{6x^3 +5x}{\\sqrt{x^2+1}}  \\right) * (2x^2+2) - 4x\\sqrt{x^2+1}  (2x^2 + 1) }{(2x^2 + 2)^2} $\n",
        "\n",
        "$ \\frac{ \\left(\\frac{12x^5 +22x^3+10x}{\\sqrt{x^2+1}}  \\right)  - 4x\\sqrt{x^2+1}  (2x^2 + 1) }{(2x^2 + 2)^2} $\n",
        "\n",
        "$ \\frac{ \\left(\\frac{12x^5 +22x^3+10x - 4x(x^2+1)  (2x^2 + 1)}{\\sqrt{x^2+1}}  \\right)   }{(2x^2 + 2)^2} $\n",
        "\n",
        "$ \\frac{ \\left(\\frac{12x^5 +22x^3+10x -8x^5 -12x^3-4x}{\\sqrt{x^2+1}}  \\right)   }{(2x^2 + 2)^2} $\n",
        "\n",
        "$ \\frac{ \\frac{4x^5 +10x^3 +6x}{\\sqrt{x^2+1}}   }{(2x^2 + 2)^2} $\n",
        "\n",
        "$ \\frac{ 4x^5 +10x^3 +6x  }{\\sqrt{x^2+1}(2x^2 + 2)^2} $"
      ]
    },
    {
      "cell_type": "markdown",
      "metadata": {
        "id": "VPf-ixVUVnXI"
      },
      "source": [
        "juntamos las partes\n",
        "\n",
        "$- \\frac{x}{2(1 + x^2)^{3/2}} - \\frac{ 4x^5 +10x^3 +6x  }{\\sqrt{x^2+1}*(2*(x^2 + 2))^2} + 1$\n",
        "\n",
        "$- \\frac{x}{2(1 + x^2)^{3/2}} - \\frac{ 2x *(2x^4 +5x^2 +3)  }{\\sqrt{1+x^2}*2^2*(1+x^2)^2} + 1$\n",
        "\n",
        "$- \\frac{x}{2(1 + x^2)^{3/2}} - \\frac{ x *(2x^4 +5x^2 +3)  }{\\sqrt{1+x^2}*2*(1+x^2)^2} + 1$\n",
        "\n",
        "$- \\frac{x}{2(1 + x^2)^{3/2}} - \\frac{ x *(2x^4 +3x^2+2x^2 +3)  }{\\sqrt{1+x^2}*2*(1+x^2)^2} + 1$\n",
        "\n",
        "$- \\frac{x}{2(1 + x^2)^{3/2}} - \\frac{ x * (x^2* (2x^2 +3x)+2x^2 +3)  }{\\sqrt{1+x^2}*2*(1+x^2)^2} + 1$\n",
        "\n",
        "$- \\frac{x}{2(1 + x^2)^{3/2}} - \\frac{ x *(2x^2 +3)*(x^2 +1)  }{\\sqrt{1+x^2}*2*(1+x^2)^2} + 1$\n",
        "\n",
        "$- \\frac{x}{2(1 + x^2)^{3/2}} - \\frac{ x *(2x^2 +3)  }{\\sqrt{1+x^2}*2*(1+x^2)} + 1$\n",
        "\n",
        "$- \\frac{x}{2(1 + x^2)^{3/2}} - \\frac{2x^ +3x  }{2(1 + x^2)^{3/2}} + 1$\n",
        "\n",
        "$- \\frac{x + 2x^3+3x}{2(1 + x^2)^{3/2}}  + 1$\n",
        "\n",
        "$- \\frac{2x^3+4x}{2(1 + x^2)^{3/2}}  + 1$\n",
        "\n",
        "$- \\frac{2*(x^3+2x)}{2(1 + x^2)^{3/2}}  + 1$\n",
        "\n",
        "$ \\frac{-x^3-2x}{(1 + x^2)^{3/2}}  + 1$ es el valor de la primer derivada."
      ]
    },
    {
      "cell_type": "markdown",
      "metadata": {
        "id": "akVNPM-QfL8x"
      },
      "source": [
        "#calcular la segunda derivada\n",
        "$\\frac{d}{dx} \\frac{-x^3-2x}{(1 + x^2)^{3/2}}  + 1 = \\frac{d}{dx} \\frac{-x^3-2x}{(1 + x^2)^{3/2}} + 0$\n",
        "\n",
        "usamos la regla de la derivada de un cociente.\n",
        "\n",
        "$ \\frac{d}{dx} -\\frac{x^3+2x}{(1 + x^2)^{3/2}} =  -\\frac{\\frac{d}{dx}(x^3+2x) * (1+2x)^{3/2} -  (x^3+2x) * \\frac{d}{dx}(1+2x)^{3/2}  }{ \\left((1 + x^2)^{3/2}\\right)^2}$\n",
        "\n",
        "$  = -\\frac{(3x^2+2) * (1+2x)^{3/2} -  (x^3+2x) * \\frac{3}{2}*(1+2x)^{1/2}*2x  }{ \\left((1 + x^2)^{3/2}\\right)^2}$\n",
        "\n",
        "$  = -\\frac{(3x^2+2) * (1+2x)^{3/2} -  (x^3+2x) * 3x*(1+2x)^{1/2}  }{ (1 + x^2)^3}$\n",
        "\n",
        "$  =-\\frac{(3x^2+2) * (1+2x)^{3/2} -  (3x^4+6x^2) * (1+2x)^{1/2}  }{ (1 + x^2)^3}$\n",
        "\n",
        "$  =- \\frac{ (1+2x)^{1/2} * ((3x^2+2)* (1+2^2) - 3x^4-6x^2) }{ (1 + x^2)^3}$\n",
        "\n",
        "$  =- \\frac{ (1+2x)^{1/2} * (3x^2+2 +3x^4+2x^2 - 3x^4-6x^2) }{ (1 + x^2)^3}$\n",
        "\n",
        "$  =- \\frac{  3x^2+2 +3x^4+2x^2 - 3x^4-6x^2 }{ (1 + x^2)^{5/2}}$\n",
        "\n",
        "$  = \\frac{  x^2 - 2 }{ (1 + x^2)^{5/2}}$"
      ]
    },
    {
      "cell_type": "markdown",
      "metadata": {
        "id": "BtPKJt1LvHNh"
      },
      "source": [
        "como los metodos asumen minimizacion, devolvemos el negativo para que maximicen, ademas se cuentan las llamadas en la derivada primera, asi que hare una nueva g(x) que no sume al contador"
      ]
    },
    {
      "cell_type": "code",
      "metadata": {
        "id": "xOwmPLXvlvnb"
      },
      "source": [
        "def f1(x):\n",
        "  global c\n",
        "  c+=1\n",
        "  return (\n",
        "      -(((-(x**3) - 2*x) / ((1+x**2)**(3/2)) ) +1)\n",
        "  )"
      ],
      "execution_count": 87,
      "outputs": []
    },
    {
      "cell_type": "code",
      "metadata": {
        "id": "9G-1yNcdqJC2"
      },
      "source": [
        "def f2(x):\n",
        "  return(\n",
        "      -((x**2 - 2) / ((1+x**2)**(5/2)))\n",
        "  )"
      ],
      "execution_count": 88,
      "outputs": []
    },
    {
      "cell_type": "code",
      "metadata": {
        "id": "nkJr4NBlvyL0"
      },
      "source": [
        "def g(x):\n",
        "  return(-f(x))"
      ],
      "execution_count": 89,
      "outputs": []
    },
    {
      "cell_type": "code",
      "metadata": {
        "id": "F8ihauaGvwOX"
      },
      "source": [
        "x0,epsilon = 0,0.0001"
      ],
      "execution_count": 90,
      "outputs": []
    },
    {
      "cell_type": "code",
      "metadata": {
        "id": "1_bvhbXDhYaG"
      },
      "source": [
        "def Raphson(x1,epsilon,f):\n",
        "  global c\n",
        "  c= 0\n",
        "  f1x = f1(x1)\n",
        "  while abs(f1x) > epsilon:  \n",
        "    x2 = x1 - (f1x/f2(x1))\n",
        "    x1 = x2\n",
        "    f1x = f1(x1)\n",
        "  print('({:.3f},{:.3f})\\n{}'.format(x1,-f(x1),c))"
      ],
      "execution_count": 91,
      "outputs": []
    },
    {
      "cell_type": "code",
      "metadata": {
        "colab": {
          "base_uri": "https://localhost:8080/"
        },
        "id": "BqyyJ4vlu7Ur",
        "outputId": "0a7d710a-419a-49bc-c71b-7ba614dcd113"
      },
      "source": [
        "Raphson(x0,epsilon,g)"
      ],
      "execution_count": 94,
      "outputs": [
        {
          "output_type": "stream",
          "text": [
            "(0.786,0.300)\n",
            "6\n"
          ],
          "name": "stdout"
        }
      ]
    },
    {
      "cell_type": "markdown",
      "metadata": {
        "id": "ZyxQzWHcxvBx"
      },
      "source": [
        "El valor de $x^*$ es $0.786$, la $f(x^*)$ es $0.300$ y se llamó a la derivada de la funcion 6 veces."
      ]
    },
    {
      "cell_type": "markdown",
      "metadata": {
        "id": "XGrryufhzQAT"
      },
      "source": [
        "#c)\n",
        "Utilizando el método de Casi Newton. La entrada será $x0 = 0, \\epsilon = 0.0001$ y $\\delta = 0.01$"
      ]
    },
    {
      "cell_type": "code",
      "metadata": {
        "id": "fj_ZnB5Mvy5l"
      },
      "source": [
        "def f_1(x : float, delta : float):\n",
        "  return ( \n",
        "    (cf(x+delta) - cf(x-delta)) / (2*delta)\n",
        "  )\n",
        "\n",
        "def f_2(x : float,delta : float):\n",
        "  #print(\"fx+\",f(x+delta),\"fx\",f(x),\"fx-\",f(x-delta))\n",
        "  return(\n",
        "   (cf(x+delta) - (2*cf(x)) + cf(x-delta)) / (delta**2)\n",
        "  )\n",
        "\n",
        "def cf(x):\n",
        "  global valores_f\n",
        "  try:\n",
        "    return(valores_f[x])\n",
        "  except:\n",
        "    valores_f[x] = f(x)\n",
        "    return(valores_f[x])\n",
        "\n",
        "def Cuasi_Newton(x0 :float, epsilon : float, delta : float):\n",
        "  global c,valores_f\n",
        "  valores_f = {}\n",
        "  c= 0\n",
        "  x1 = x0\n",
        "  valores_f[x1] = f(x1)\n",
        "  f_1x = f_1(x1,delta)\n",
        "\n",
        "  while abs(f_1x) > epsilon:  \n",
        "    #print(x1,f_2(x1,delta))\n",
        "    x2 = x1 - (f_1x/f_2(x1,delta))\n",
        "    x1 = x2\n",
        "    f_1x = f_1(x1,delta)\n",
        "  print('({:.3f},{:.3f})\\n{}'.format(x1,-f(x1),c))"
      ],
      "execution_count": 81,
      "outputs": []
    },
    {
      "cell_type": "markdown",
      "metadata": {
        "id": "pA1JsvEN5O-T"
      },
      "source": [
        "como se deben contar las llamadas a $f(x)$, la cambiaré para que cuente cuando la llaman, y que devuelva el negativo para que el método maximice"
      ]
    },
    {
      "cell_type": "code",
      "metadata": {
        "id": "tH5CfbNs0ank"
      },
      "source": [
        "def f(x):\n",
        "  global c\n",
        "  c+=1\n",
        "  return -((0.5/(1+x**2)**(1/2)) - (1+x**2)**(1/2) * (1- (0.5/(1+x**2))) + x)"
      ],
      "execution_count": 82,
      "outputs": []
    },
    {
      "cell_type": "code",
      "metadata": {
        "id": "dYWiRhlk0hmf"
      },
      "source": [
        "x0,epsilon,delta = 0,0.0001,0.01"
      ],
      "execution_count": 83,
      "outputs": []
    },
    {
      "cell_type": "code",
      "metadata": {
        "colab": {
          "base_uri": "https://localhost:8080/"
        },
        "id": "lyS0pNSW0u0-",
        "outputId": "c1d95538-b466-4cf8-e089-0470659eec8b"
      },
      "source": [
        "Cuasi_Newton(x0,epsilon,delta)"
      ],
      "execution_count": 84,
      "outputs": [
        {
          "output_type": "stream",
          "text": [
            "(0.786,0.300)\n",
            "18\n"
          ],
          "name": "stdout"
        }
      ]
    },
    {
      "cell_type": "markdown",
      "metadata": {
        "id": "SQAJpgYE4brB"
      },
      "source": [
        "el punto $x^*$ salio de $0.786$, la $f(x^*) = 0.300$ "
      ]
    },
    {
      "cell_type": "markdown",
      "metadata": {
        "id": "KUaEUaZw3DOa"
      },
      "source": [
        "#d)\n",
        "Utilizando el método de bisección. La entrada a\n",
        "su programa será: $a=0, b = 5$ y $\\epsilon = 0.0001$"
      ]
    },
    {
      "cell_type": "code",
      "metadata": {
        "id": "6XoKowmq5wmD"
      },
      "source": [
        "def f(x):\n",
        "  return -((0.5/(1+x**2)**(1/2)) - (1+x**2)**(1/2) * (1- (0.5/(1+x**2))) + x)\n",
        "def f1(x):\n",
        "  global c\n",
        "  c+=1\n",
        "  return (\n",
        "      -(((-(x**3) - 2*x) / ((1+x**2)**(3/2)) ) +1)\n",
        "  )"
      ],
      "execution_count": 98,
      "outputs": []
    },
    {
      "cell_type": "code",
      "metadata": {
        "id": "XyzEpJma00L7"
      },
      "source": [
        "def biseccion(a : float, b : float,epsilon: float):\n",
        "  global c\n",
        "  c =0\n",
        "  if f1(a) <= 0 and f1(b) >= 0:\n",
        "      z = (a+b) /2\n",
        "      f1z = f1(z)\n",
        "      while abs(f1z) > epsilon:\n",
        "        #print(f_1z)\n",
        "        if f1z < 0:\n",
        "          a = z\n",
        "        else:\n",
        "          b = z\n",
        "        z = (a+b) /2\n",
        "        f1z = f1(z)\n",
        "      print('({:.3f},{:.3f})\\n{}'.format(z,-f(z),c))\n",
        "  else:\n",
        "    print('Error')"
      ],
      "execution_count": 111,
      "outputs": []
    },
    {
      "cell_type": "code",
      "metadata": {
        "id": "aCLzweeh58TC"
      },
      "source": [
        "a,b,epsilon = 0,5,0.0001"
      ],
      "execution_count": 112,
      "outputs": []
    },
    {
      "cell_type": "code",
      "metadata": {
        "colab": {
          "base_uri": "https://localhost:8080/"
        },
        "id": "9W2uJWbO6Crs",
        "outputId": "c9618190-1168-45c1-9802-cf2a6303f0b0"
      },
      "source": [
        "biseccion(a,b,epsilon)"
      ],
      "execution_count": 113,
      "outputs": [
        {
          "output_type": "stream",
          "text": [
            "(0.786,0.300)\n",
            "12\n"
          ],
          "name": "stdout"
        }
      ]
    },
    {
      "cell_type": "markdown",
      "metadata": {
        "id": "iX52Q-Qy7X_5"
      },
      "source": [
        "El punto $x^*$ me salio igual a $0.786$, la $f(x^*)$ = $0.300$, y se llamó a la derivada de la función 12 veces."
      ]
    },
    {
      "cell_type": "markdown",
      "metadata": {
        "id": "moN6HSf_70RA"
      },
      "source": [
        "#e)\n",
        "Utilizando el método de la secante, con entrada de $a=0,b=5 y \\epsilon=0.0001$"
      ]
    },
    {
      "cell_type": "markdown",
      "metadata": {
        "id": "aMGikANS8Vwz"
      },
      "source": [
        "Como se debe contar igual que en el inciso anterior, no necesito declarar nuevamente la $f(x)$ ni la $f'(x)$"
      ]
    },
    {
      "cell_type": "code",
      "metadata": {
        "id": "ujRX2gLP6GFr"
      },
      "source": [
        "def cf1(x):\n",
        "  global valores_f1\n",
        "  try:\n",
        "    return( valores_f1[x])\n",
        "  except:\n",
        "    valores_f1[x] = f1(x)\n",
        "    return( valores_f1[x])\n",
        "\n",
        "def secante(x_l : float,x_r : float,epsilon: float):\n",
        "  global c, valores_f1\n",
        "  valores_f1 = {}\n",
        "  c  = 0\n",
        "  f1xr=cf1(x_r)\n",
        "  f1xl=cf1(x_l)\n",
        "  z = ( x_r - ( (f1xr * (x_r-x_l)) / (f1xr - f1xl) ) )\n",
        "  f1z  = cf1(z)\n",
        "  if  (cf1(x_l) * cf1(x_r)) > 0:\n",
        "      print('Error')\n",
        "      exit()\n",
        "  while abs(f1z) > epsilon:\n",
        "    #print(z)    \n",
        "    if  (cf1(x_l) * cf1(x_r)) > 0:\n",
        "      print('Error')\n",
        "      break\n",
        "    if f1z < 0:\n",
        "      x_l = z\n",
        "      f1xl = f1z\n",
        "    else:\n",
        "      x_r  =z\n",
        "      f1xr = f1z\n",
        "    z = ( x_r - ( (f1xr * (x_r-x_l)) / (f1xr - f1xl) ) )\n",
        "    f1z  = cf1(z)\n",
        "    \n",
        "  print('({:.3f},{:.3f})\\n{}'.format(z,-f(z),c))"
      ],
      "execution_count": 22,
      "outputs": []
    },
    {
      "cell_type": "code",
      "metadata": {
        "colab": {
          "base_uri": "https://localhost:8080/"
        },
        "id": "tQZvpixn8SR8",
        "outputId": "6655cd35-5786-4b94-d8b5-a6f737a5f689"
      },
      "source": [
        "a,b,epsilon = 0,5,0.0001\n",
        "secante(a,b,epsilon)"
      ],
      "execution_count": 119,
      "outputs": [
        {
          "output_type": "stream",
          "text": [
            "(0.786,0.300)\n",
            "56\n"
          ],
          "name": "stdout"
        }
      ]
    },
    {
      "cell_type": "markdown",
      "metadata": {
        "id": "BZ3V_Ewg8_rD"
      },
      "source": [
        "El punto $x^*$ me salio igual a $0.786$, la $f(x^*)$ = $0.300$, y se llamó a la derivada de la función 56 veces."
      ]
    },
    {
      "cell_type": "markdown",
      "metadata": {
        "id": "ufcEs9pV9QYG"
      },
      "source": [
        "# Ejercicio 2\n",
        "Grafica la función $f(x)$ en el intervalo $[x^*-1,x^*+1]$"
      ]
    },
    {
      "cell_type": "code",
      "metadata": {
        "id": "lnkZ3YiC88P2"
      },
      "source": [
        "import numpy as np\n",
        "import matplotlib.pyplot as plt"
      ],
      "execution_count": 5,
      "outputs": []
    },
    {
      "cell_type": "code",
      "metadata": {
        "id": "MXwvIkuFB32j"
      },
      "source": [
        "def f(x):\n",
        "  return (0.5/(1+x**2)**(1/2)) - (1+x**2)**(1/2) * (1- (0.5/(1+x**2))) + x"
      ],
      "execution_count": null,
      "outputs": []
    },
    {
      "cell_type": "code",
      "metadata": {
        "id": "dP14JfiP9yKH"
      },
      "source": [
        "x = np.linspace(0.786-1,1.786,100)"
      ],
      "execution_count": 9,
      "outputs": []
    },
    {
      "cell_type": "code",
      "metadata": {
        "colab": {
          "base_uri": "https://localhost:8080/",
          "height": 265
        },
        "id": "zcCPYzRD98O9",
        "outputId": "0bc0de29-b512-4af8-e8ac-85ece24f0be1"
      },
      "source": [
        "plt.plot(x, [f(_) for _ in x])\n",
        "plt.show()"
      ],
      "execution_count": 7,
      "outputs": [
        {
          "output_type": "display_data",
          "data": {
            "image/png": "[encoded data removed]",
            "text/plain": [
              "<Figure size 432x288 with 1 Axes>"
            ]
          },
          "metadata": {
            "tags": [],
            "needs_background": "light"
          }
        }
      ]
    },
    {
      "cell_type": "markdown",
      "metadata": {
        "id": "T9uvwGMU-R7L"
      },
      "source": [
        "#Ejercicio 3\n",
        "Utilice el método de su preferencia para resolver el siguiente problema:\n",
        "$min g(x) = e^x - x^3 $\n",
        "\n",
        "Indique los parámetros de entrada que utilizó y grafique la función $g(x)$ en un intervalo que contenga la solucion óptima."
      ]
    },
    {
      "cell_type": "code",
      "metadata": {
        "id": "2lDC4dHY-B0y"
      },
      "source": [
        "def g(x):\n",
        "  return(np.e**x - x**3)\n",
        "def f1(x):\n",
        "  global c\n",
        "  c+=1\n",
        "  return(np.e**x - 3*(x**2))"
      ],
      "execution_count": 2,
      "outputs": []
    },
    {
      "cell_type": "code",
      "metadata": {
        "id": "_zWrlE1hBMIf"
      },
      "source": [
        "def cf1(x):\n",
        "  global valores_f1\n",
        "  try:\n",
        "    return( valores_f1[x])\n",
        "  except:\n",
        "    valores_f1[x] = f1(x)\n",
        "    return( valores_f1[x])\n",
        "\n",
        "def secante(x_l : float,x_r : float,epsilon: float,f):\n",
        "  global c, valores_f1\n",
        "  valores_f1 = {}\n",
        "  c  = 0\n",
        "  f1xr=cf1(x_r)\n",
        "  f1xl=cf1(x_l)\n",
        "  z = ( x_r - ( (f1xr * (x_r-x_l)) / (f1xr - f1xl) ) )\n",
        "  f1z  = cf1(z)\n",
        "  if  (cf1(x_l) * cf1(x_r)) > 0:\n",
        "      print('Error')\n",
        "      exit()\n",
        "  while abs(f1z) > epsilon:\n",
        "    #print(z)    \n",
        "    if  (cf1(x_l) * cf1(x_r)) > 0:\n",
        "      print('Error')\n",
        "      break\n",
        "    if f1z < 0:\n",
        "      x_l = z\n",
        "      f1xl = f1z\n",
        "    else:\n",
        "      x_r  =z\n",
        "      f1xr = f1z\n",
        "    z = ( x_r - ( (f1xr * (x_r-x_l)) / (f1xr - f1xl) ) )\n",
        "    f1z  = cf1(z)\n",
        "    \n",
        "  print('({:.3f},{:.3f})\\n{}'.format(z,f(z),c))"
      ],
      "execution_count": 7,
      "outputs": []
    },
    {
      "cell_type": "markdown",
      "metadata": {
        "id": "hEzXq9kOCMHu"
      },
      "source": [
        "Escogí utilizar el método de secante, y los parametros que utilicé son $a= 2, b= 5 y epsilon = 0.0001$"
      ]
    },
    {
      "cell_type": "code",
      "metadata": {
        "colab": {
          "base_uri": "https://localhost:8080/"
        },
        "id": "gMvynl04_iPd",
        "outputId": "6bc8a3ee-285e-46b6-ac32-b6f72bb2f512"
      },
      "source": [
        "a,b,epsilon = 2,5,0.0001\n",
        "secante(a,b,epsilon,g)"
      ],
      "execution_count": 8,
      "outputs": [
        {
          "output_type": "stream",
          "text": [
            "(3.733,-10.216)\n",
            "38\n"
          ],
          "name": "stdout"
        }
      ]
    },
    {
      "cell_type": "markdown",
      "metadata": {
        "id": "zaRn8QumDR_7"
      },
      "source": [
        "el punto $x^*$ salió igual a $3.733$, $f(x^*) = -10.216$ y se llamo a la derivada de la función 38 veces."
      ]
    },
    {
      "cell_type": "code",
      "metadata": {
        "id": "VpsV-sod_jck"
      },
      "source": [
        "x = np.linspace(3.733-2,3.733+2,100)"
      ],
      "execution_count": 18,
      "outputs": []
    },
    {
      "cell_type": "code",
      "metadata": {
        "colab": {
          "base_uri": "https://localhost:8080/",
          "height": 265
        },
        "id": "ger4z1K7Cx3j",
        "outputId": "3c9ce840-bb78-40ce-b2e6-e1179c800111"
      },
      "source": [
        "plt.plot(x, [g(_) for _ in x])\n",
        "plt.show()"
      ],
      "execution_count": 19,
      "outputs": [
        {
          "output_type": "display_data",
          "data": {
            "image/png": "[encoded data removed]",
            "text/plain": [
              "<Figure size 432x288 with 1 Axes>"
            ]
          },
          "metadata": {
            "tags": [],
            "needs_background": "light"
          }
        }
      ]
    },
    {
      "cell_type": "code",
      "metadata": {
        "id": "vq4T_4zdDCfo"
      },
      "source": [
        ""
      ],
      "execution_count": null,
      "outputs": []
    }
  ]
}