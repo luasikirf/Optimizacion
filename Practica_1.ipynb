{
  "nbformat": 4,
  "nbformat_minor": 0,
  "metadata": {
    "colab": {
      "name": "Practica 1.ipynb",
      "provenance": [],
      "collapsed_sections": [],
      "toc_visible": true
    },
    "kernelspec": {
      "name": "python3",
      "display_name": "Python 3"
    }
  },
  "cells": [
    {
      "cell_type": "markdown",
      "metadata": {
        "id": "JzKn9zRxKsWF"
      },
      "source": [
        "# Ejercicio 1\r\n",
        "Evaluar la funcion en el intervalo [0,3] con precision de 0.001."
      ]
    },
    {
      "cell_type": "code",
      "metadata": {
        "id": "FVxBtRD5MQf2"
      },
      "source": [
        "import math\r\n",
        "import numpy as np\r\n",
        "import matplotlib.pyplot as plt"
      ],
      "execution_count": 6,
      "outputs": []
    },
    {
      "cell_type": "code",
      "metadata": {
        "id": "f1847PJutvTP"
      },
      "source": [
        "def f(x):\r\n",
        "  global c\r\n",
        "  c +=1\r\n",
        "  return ( 0.65- (0.75/(1+x**2)) - (0.65*x * math.atan(1/x)) )"
      ],
      "execution_count": 4,
      "outputs": []
    },
    {
      "cell_type": "code",
      "metadata": {
        "id": "pkPNl_dJPlmS"
      },
      "source": [
        "def g(x):\r\n",
        "  global c\r\n",
        "  c +=1\r\n",
        "  return(x**2+(54/(x+10)))"
      ],
      "execution_count": 11,
      "outputs": []
    },
    {
      "cell_type": "code",
      "metadata": {
        "id": "XzicmwO_RCcR"
      },
      "source": [
        "def h(x):\r\n",
        "    global c\r\n",
        "    c+=1\r\n",
        "    return ((x**2)+ (54/(x)))"
      ],
      "execution_count": 4,
      "outputs": []
    },
    {
      "cell_type": "markdown",
      "metadata": {
        "id": "JIoWoRkARtCx"
      },
      "source": [
        "Busqueda Exhaustiva"
      ]
    },
    {
      "cell_type": "code",
      "metadata": {
        "id": "QUcRR4xqsJqz"
      },
      "source": [
        "def busqueda_ex(inicio: int, fin : int, divisiones ,funcion):\r\n",
        "  global c\r\n",
        "  if type(divisiones) ==  type(0.):\r\n",
        "    divisiones = (2 * (fin-inicio))/divisiones\r\n",
        "    #print(divisiones)\r\n",
        "  incremento= (abs(fin-inicio))/divisiones\r\n",
        "  x1=inicio\r\n",
        "  x2=x1+incremento\r\n",
        "  x3=x2+incremento\r\n",
        "  intervalo=(inicio,fin)\r\n",
        "  c=0\r\n",
        "  valores_f= []\r\n",
        "  while x3 <= fin:\r\n",
        "      if x3 == 0 or x2 ==0 or x1 == 0:\r\n",
        "          x1=x2\r\n",
        "          x2=x3\r\n",
        "          x3=x2+incremento\r\n",
        "      else:\r\n",
        "          if len(valores_f) == 3:\r\n",
        "              fx1 = valores_f[1]\r\n",
        "              fx2 =valores_f[2]\r\n",
        "              valores_f.pop()\r\n",
        "              fx3 = funcion(x3)\r\n",
        "              valores_f.append(fx3)\r\n",
        "          else:\r\n",
        "              fx1,fx2,fx3=funcion(x1),funcion(x2),funcion(x3)\r\n",
        "              valores_f.append(fx1)\r\n",
        "              valores_f.append(fx2)\r\n",
        "              valores_f.append(fx3)\r\n",
        "          if fx2 <= fx1 and fx2 <= fx3:\r\n",
        "              intervalo= (x1,x3)\r\n",
        "              break\r\n",
        "          x1=x2\r\n",
        "          x2=x3\r\n",
        "          x3=x2+incremento\r\n",
        "  res=\"(\"+\"{:.3f}\".format(intervalo[0])+\",\"+\"{:.3f}\".format(intervalo[1])+\")\"\r\n",
        "  print('El mimimo se encuentra en el intervalo: ',res)\r\n",
        "  print('Se llamó a la funcion objetivo un total de ',c,'veces')"
      ],
      "execution_count": 122,
      "outputs": []
    },
    {
      "cell_type": "markdown",
      "metadata": {
        "id": "N8JYI3CBfhjd"
      },
      "source": [
        "Intervalos por mitad"
      ]
    },
    {
      "cell_type": "code",
      "metadata": {
        "id": "zIJwunc0f3s_"
      },
      "source": [
        "def Intervalos_mitad(a : int,b : int,epsilon : float, f):\r\n",
        "    global c\r\n",
        "    c = 0\r\n",
        "    l = abs(b-a)\r\n",
        "    x1 = a + l/4\r\n",
        "    x2 = b - l/4\r\n",
        "    xm = a + ((b-a)/2)\r\n",
        "    fm= f(xm)\r\n",
        "\r\n",
        "    while l > epsilon:\r\n",
        "      f1 = f(x1)\r\n",
        "      f2 = f(x2)\r\n",
        "      if f1 < fm:\r\n",
        "        b = xm\r\n",
        "        fm = f1\r\n",
        "        xm = x1\r\n",
        "      else:\r\n",
        "          if f2 < fm:\r\n",
        "            a = xm\r\n",
        "            xm = x2\r\n",
        "            fm = f2\r\n",
        "          else:\r\n",
        "            a = x1\r\n",
        "            b = x2\r\n",
        "            \r\n",
        "      l = abs(b-a)\r\n",
        "      x1 = a + l/4\r\n",
        "      x2 = b - l/4 \r\n",
        "    print('El minimo se encuentra en el intervalo:','({:.4f},{:.4f})'.format(a,b))\r\n",
        "    print('Se llamó a la funcion objetivo',c,'veces')\r\n"
      ],
      "execution_count": 10,
      "outputs": []
    },
    {
      "cell_type": "markdown",
      "metadata": {
        "id": "bagXXUR8R1Pl"
      },
      "source": [
        "Implementacion fibonacci"
      ]
    },
    {
      "cell_type": "code",
      "metadata": {
        "id": "Yukd5OP-tVdZ"
      },
      "source": [
        "def busqueda_fibonacci(a : int,b : int,n : int,f):\r\n",
        "  global c\r\n",
        "  c =-1 #inicio en -1, ya que por como implementé el algoritmo hice una llama más de las necesarias a la funcion objetivo\r\n",
        "  l = b-a\r\n",
        "  k = 2\r\n",
        "  valores = [1,1]\r\n",
        "\r\n",
        "  if type(n) == type(0.): #verificamos si n es flotante, so lo es, asumimos que es un epsilon, y calculamos la n para obtenerlo\r\n",
        "    while l/n > valores[-1]:\r\n",
        "      valores.insert((valores[-1]+1),(valores[-1]+valores[-2]))\r\n",
        "    n = len(valores)-1\r\n",
        "    #print(valores)\r\n",
        "    #print(n)\r\n",
        "  else:\r\n",
        "    for i in range(2,int(n+1)):\r\n",
        "        valores.append((valores[i-2]+valores[i-1]))\r\n",
        "\r\n",
        "  lk = ((valores[int(n-k)]/valores[int(n)])*l)\r\n",
        "  x1 = a + lk\r\n",
        "  x2 = b - lk\r\n",
        "  f1 = f(x1)\r\n",
        "  f2 = f(x2)\r\n",
        "  while k <= n:\r\n",
        "      if f1 > f2:\r\n",
        "          a = x1\r\n",
        "          x1 = x2\r\n",
        "          k+=1\r\n",
        "          lk = ((valores[int(n-k)]/valores[int(n)])*l)\r\n",
        "          f1 = f2\r\n",
        "          x2 = b -lk\r\n",
        "          f2 = f(x2)\r\n",
        "      else:\r\n",
        "          b = x2\r\n",
        "          x2 = x1\r\n",
        "          k +=1\r\n",
        "          lk = ((valores[int(n-k)]/valores[int(n)])*l)\r\n",
        "          f2 = f1\r\n",
        "          x1 = a + lk\r\n",
        "          f1 = f(x1)\r\n",
        "  print('El minimo se encuentra en el intervalo','({},{})'.format(\"%.4f\"%a,\"%.4f\"%b))\r\n",
        "  print('Se llamo a la funcion objetivo',c,'veces')"
      ],
      "execution_count": 8,
      "outputs": []
    },
    {
      "cell_type": "markdown",
      "metadata": {
        "id": "j-2TxYOyigkt"
      },
      "source": [
        "Seccion dorada"
      ]
    },
    {
      "cell_type": "code",
      "metadata": {
        "id": "AbcHQFyKKjiw"
      },
      "source": [
        "def seccion_dorada(a : int, b : int, epsilon : float, f):\r\n",
        "  global c\r\n",
        "  c =-1 #inicio c en -1 ya que estoy haciendo una llamda de mas a la función, y no se me ocurrió como evitarlo\r\n",
        "  def Normalizar(x):\r\n",
        "    #global a,b\r\n",
        "    return ( (x-a)/(b-a))\r\n",
        "\r\n",
        "  def DesNormalizar(x):\r\n",
        "    #global a,b\r\n",
        "    return ((x*(b-a)) + a)\r\n",
        "  \r\n",
        "  a_norm = 0\r\n",
        "  b_norm = 1\r\n",
        "  l_norm = 1\r\n",
        "  x1_norm = a_norm + 0.618*l_norm\r\n",
        "  x2_norm = b_norm - 0.618*l_norm\r\n",
        "  fx1 = f(DesNormalizar(x1_norm))\r\n",
        "  fx2 = f(DesNormalizar(x2_norm))\r\n",
        "  while l_norm > epsilon/(b-a):\r\n",
        "    #print(DesNormalizar(x1_norm),DesNormalizar(x2_norm))\r\n",
        "    #print(fx1,fx2)\r\n",
        "    if fx1 < fx2:\r\n",
        "      a_norm = x2_norm\r\n",
        "      x2_norm = x1_norm\r\n",
        "      fx2 = fx1\r\n",
        "      l_norm = b_norm - a_norm\r\n",
        "      x1_norm = a_norm + 0.618*l_norm\r\n",
        "      fx1 = f(DesNormalizar(x1_norm))\r\n",
        "    else:\r\n",
        "      b_norm = x1_norm\r\n",
        "      x1_norm = x2_norm\r\n",
        "      fx1 = fx2\r\n",
        "      l_norm = b_norm - a_norm\r\n",
        "      x2_norm = b_norm - 0.618*l_norm\r\n",
        "      fx2 = f(DesNormalizar(x2_norm))\r\n",
        "    l_norm = b_norm - a_norm\r\n",
        "  print('El minimo se encuentra en el intervalo: ')\r\n",
        "  print('({:.4f},{:.4f})'.format(DesNormalizar(a_norm),DesNormalizar(b_norm)))\r\n",
        "  print('Se llamó a la funcion objetivo un total de: ', c, ' veces')"
      ],
      "execution_count": 2,
      "outputs": []
    },
    {
      "cell_type": "code",
      "metadata": {
        "colab": {
          "base_uri": "https://localhost:8080/"
        },
        "id": "JHSiP2AubFBI",
        "outputId": "a6fe054b-0ef6-447e-8fce-2eba1188541c"
      },
      "source": [
        "busqueda_ex(0,3,0.001,f)"
      ],
      "execution_count": 171,
      "outputs": [
        {
          "output_type": "stream",
          "text": [
            "El mimimo se encuentra en el intervalo:  (0.481,0.482)\n",
            "Se llamó a la funcion objetivo un total de  963 veces\n"
          ],
          "name": "stdout"
        }
      ]
    },
    {
      "cell_type": "code",
      "metadata": {
        "colab": {
          "base_uri": "https://localhost:8080/"
        },
        "id": "TAfd8N7ZP_Il",
        "outputId": "88e18dcf-db98-4708-bde3-6665ee57139c"
      },
      "source": [
        "Intervalos_mitad(0,3,0.001,f)"
      ],
      "execution_count": 13,
      "outputs": [
        {
          "output_type": "stream",
          "text": [
            "El minimo se encuentra en el intervalo: (0.4805,0.4812)\n",
            "Se llamó a la funcion objetivo 25 veces\n"
          ],
          "name": "stdout"
        }
      ]
    },
    {
      "cell_type": "code",
      "metadata": {
        "colab": {
          "base_uri": "https://localhost:8080/"
        },
        "id": "jPD8PfHtdgj5",
        "outputId": "2dbb4313-23ee-43c0-ce3d-2f6b8a721a12"
      },
      "source": [
        "seccion_dorada(0,3,0.001,f)"
      ],
      "execution_count": 7,
      "outputs": [
        {
          "output_type": "stream",
          "text": [
            "El minimo se encuentra en el intervalo: \n",
            "(0.4802,0.4811)\n",
            "Se llamó a la funcion objetivo un total de:  18  veces\n"
          ],
          "name": "stdout"
        }
      ]
    },
    {
      "cell_type": "code",
      "metadata": {
        "colab": {
          "base_uri": "https://localhost:8080/"
        },
        "id": "n5BVTSCoNf9_",
        "outputId": "25b0ec4c-e875-4f40-cc71-990fae4b9545"
      },
      "source": [
        "busqueda_fibonacci(0,3,0.001,f)"
      ],
      "execution_count": 9,
      "outputs": [
        {
          "output_type": "stream",
          "text": [
            "El minimo se encuentra en el intervalo (0.4800,0.4807)\n",
            "Se llamo a la funcion objetivo 18 veces\n"
          ],
          "name": "stdout"
        }
      ]
    },
    {
      "cell_type": "markdown",
      "metadata": {
        "id": "4uY5tmdgZYFK"
      },
      "source": [
        "# Ejercicio 2\r\n",
        "Validar el numero de evaluaciones realizadas, con las \r\n",
        "evaluaciones teoricas.\r\n",
        "Para las ecuaciones, usaré la siguiente notación.\r\n",
        "$ln$ = longitud del intervalo tras n iteraciones.\r\n",
        "\r\n",
        "$L$ = longitud del intervalo, se obtiene con $ b - a$ donde $a$ es el punto inicial y $b$ el final del intervalo a evaluar.\r\n",
        "\r\n",
        "$n$ = numero de iteraciones.\r\n",
        "\r\n",
        "$\\epsilon$ = precisión minima requerida.\r\n",
        "\r\n",
        "$Ln$ = longitud del intervalo tras n llamadas a la funcion.\r\n",
        "\r\n",
        "Para este ejercicio, se tienen los siguientes valores:\r\n",
        "\r\n",
        "$L$ = 3\r\n",
        "$\\epsilon$ = 0.001\r\n"
      ]
    },
    {
      "cell_type": "markdown",
      "metadata": {
        "id": "HQ2E_w0VZh47"
      },
      "source": [
        "## Busqueda exhaustiva\r\n",
        "su formula para calcular la longitud del intervalo resultante es: $ln =\\frac{2L}{n} $, como $ln$ es el tamaño final, y se pide una precision de$\\epsilon$, tomamos $ LN $ como $\\epsilon$\r\n",
        "\r\n",
        "$\\epsilon =\\frac{2L}{n} $\r\n",
        "\r\n",
        "$\\epsilon*n = 2L$\r\n",
        "\r\n",
        "$n = \\frac{2L}{\\epsilon}$\r\n",
        "\r\n",
        "Sustituyendo los valores $L y \\epsilon$ nos queda:\r\n",
        "\r\n",
        "$n = \\frac{2*3}{0.001}$\r\n",
        "\r\n",
        "$n = \\frac{6}{0.001}$\r\n",
        "\r\n",
        "$n = 6000$\r\n",
        "\r\n",
        "#Comparación\r\n",
        "En la practica el algoritmo hizo muchas menos llamadas que las teóricas, no llegó ni a mil, esto debido a que ese numero es en el peor de los casos.\r\n"
      ]
    },
    {
      "cell_type": "markdown",
      "metadata": {
        "id": "jDrdP5Nk1WO_"
      },
      "source": [
        "## Division por mitad.\r\n",
        "Su formula es:\r\n",
        "$Ln =  (\\frac{1}{2})^\\frac{n}{2} L$\r\n",
        "\r\n",
        "Cambiando $Ln$ por $\\epsilon$ y despejando para obtener cuantas llamadas a la funcion se deben hacer, nos queda:\r\n",
        "\r\n",
        "$\\epsilon L =  (\\frac{1}{2})^\\frac{n}{2} $\r\n",
        "\r\n",
        "$ \\log_{1/2}{\\epsilon L} = \\log_{1/2}{(\\frac{1}{2})^\\frac{n}{2}}$\r\n",
        "\r\n",
        "$ \\log_{1/2}{\\epsilon L} = \\frac{n}{2}$\r\n",
        "\r\n",
        "$ 2\\log_{1/2}{\\epsilon L} = n$\r\n",
        "\r\n",
        "Sustituyendo los valores nos queda:\r\n",
        "$ n = 2\\log_{1/2}{0.001* 3}$\r\n",
        "\r\n",
        "$n \\eqsim 23.10149$\r\n",
        "\r\n",
        "#comparación\r\n",
        "En la practica se mandó a llamar 25 veces, desconozco el motivo por el cual se llamo dos veces más, pero el algoritmo está bien, ya que pasó todos los casos de prueba en hackerrank."
      ]
    },
    {
      "cell_type": "markdown",
      "metadata": {
        "id": "BhdM0g7K3q8M"
      },
      "source": [
        "## Seccion dorada.\r\n",
        "Su formula es:\r\n",
        "\r\n",
        "$ 0.618^{n-1} * L = Ln $\r\n",
        "\r\n",
        "Nuevamente, cambiando $Ln$ por $\\epsilon$ que es a lo que queremos llegar de longitud final, nos queda:\r\n",
        "\r\n",
        "$ 0.618^{n-1} * L = \\epsilon $\r\n",
        "\r\n",
        "Despejamos.\r\n",
        "\r\n",
        "$ 0.618^{n-1} = \\frac{\\epsilon}{L} $\r\n",
        "\r\n",
        "$ log_{(0.618)}{0.618^{n-1}} = log_{0618}{\\frac{\\epsilon}{L}} $\r\n",
        "\r\n",
        "$ n-1 = log_{(0618)}{\\frac{\\epsilon}{L}} $\r\n",
        "\r\n",
        "$ n = log_{(0618)}{\\frac{\\epsilon}{L}} + 1 $\r\n",
        "\r\n",
        "Sustituimos y nos queda:\r\n",
        "\r\n",
        "$ n = log_{(0.618)}{\\frac{0.001}{3}} + 1 $\r\n",
        "\r\n",
        "$ n \\eqsim 17.63603 $\r\n",
        "\r\n",
        "#Comparación\r\n",
        "Hizo 18 llamadas, considero está bien, ya qué si redondeamos la n, nos daría 18."
      ]
    },
    {
      "cell_type": "markdown",
      "metadata": {
        "id": "lODvD46JHht1"
      },
      "source": [
        "## Busqueda fibonacci\r\n",
        "Su formula es:\r\n",
        " $ Ln = \\frac{1}{Fn}L$ donde $Fn$ es el valor de la sucesion Fibonacci en la posicion $n$.\r\n",
        "\r\n",
        " Despejamos para obtener el valor de Fn, para despues calcular en que n se da un valor mayor o igual al requerido.\r\n",
        " Lo primero es cambiar $Ln$ por $\\epsilon$, ya que es la longitud maxima que queremos que tenga el intervalo despues de n llamadas a la función.\r\n",
        "\r\n",
        "\r\n",
        " $ \\epsilon = \\frac{1}{Fn}L$ $\\rightarrow$\r\n",
        " $ \\epsilon = \\frac{L}{Fn}\\rightarrow$\r\n",
        "  $ \\epsilon * Fn = L \\rightarrow Fn = \\frac{l}{\\epsilon}$\r\n",
        "\r\n",
        "Sustituimos y nos queda:\r\n",
        " $ Fn = \\cfrac{3}{0.001}$ $\\rightarrow$ $Fn = 3000$\r\n",
        "\r\n",
        " Buscamos en qué posición de la sucesion fibonacci aparece un valor igual o mayor a 3000, para el ejercicio se consideró que la sucesion empieza en 1,1. Con lo cual, la posición 18 es la primera en ser mayor a 3000, y entonces $n$ = 18.\r\n",
        "\r\n",
        "#Comparación\r\n",
        "hizo las 18 y se calcularon 18, justamente hizo lo calculado.\r\n",
        "\r\n"
      ]
    },
    {
      "cell_type": "markdown",
      "metadata": {
        "id": "tKs7E-PgOZXL"
      },
      "source": [
        "# Ejercicio 3\r\n",
        "Grafica de la funcion en el intervalo [0,3]\r\n"
      ]
    },
    {
      "cell_type": "code",
      "metadata": {
        "id": "1ldtF8yZYsa4"
      },
      "source": [
        "def f(x):\r\n",
        "  return ( 0.65- (0.75/(1+x**2)) - (0.65*x * math.atan(1/x)) )"
      ],
      "execution_count": 22,
      "outputs": []
    },
    {
      "cell_type": "code",
      "metadata": {
        "colab": {
          "base_uri": "https://localhost:8080/",
          "height": 319
        },
        "id": "F0uYx0epMfjD",
        "outputId": "c1179d4e-3e0e-44ff-cf5d-52c76fb06500"
      },
      "source": [
        "x = np.linspace(0,3,100)\r\n",
        "plt.plot(x, [f(_) for _ in x])\r\n",
        "plt.show()"
      ],
      "execution_count": 26,
      "outputs": [
        {
          "output_type": "stream",
          "text": [
            "/usr/local/lib/python3.7/dist-packages/ipykernel_launcher.py:2: RuntimeWarning: divide by zero encountered in double_scalars\n",
            "  \n"
          ],
          "name": "stderr"
        },
        {
          "output_type": "display_data",
          "data": {
            "image/png": "[encoded data removed]",
            "text/plain": [
              "<Figure size 432x288 with 1 Axes>"
            ]
          },
          "metadata": {
            "tags": [],
            "needs_background": "light"
          }
        }
      ]
    },
    {
      "cell_type": "markdown",
      "metadata": {
        "id": "k8rDZ0suXHDl"
      },
      "source": [
        "#Ejercicio 4\r\n",
        "Indique cuál es el método más eficiente y porqué.\r\n",
        "\r\n",
        "Considero que el más eficiente es Seccion Dorada, debido a que obtiene resultados muy cercanos a Fibonacci, el cuál es quien tiene mayor precisión en el intervalo, con la misma cantidad de llamadas a la función objetivo, pero sin tener que guardar valores adicioneles en memoria."
      ]
    }
  ]
}
